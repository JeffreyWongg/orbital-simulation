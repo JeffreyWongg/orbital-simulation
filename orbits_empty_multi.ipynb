{
 "cells": [
  {
   "cell_type": "markdown",
   "metadata": {},
   "source": [
    "# Orbits\n",
    "\n",
    "In this project, we'll implement a simple physics simulation of a planet orbiting another planet. One of the key challenges in simulating physics on a computer is that our world is _continuous_, but computers can only keep track of _discrete_ pieces of information. In other words, there's no way for a computer to produce a simulation that exactly matches reality. However, in many cases, a discrete approximation is good enough to get realistic behaviour, and we'll show this is indeed the case for a simple orbiting planet example!\n",
    "\n",
    "First, make sure you have Python 3 installed (get the latest one [here](https://www.python.org/downloads/)), and also make sure you install the following packages (we will help you do this):\n",
    "* `jupyter`\n",
    "* `numpy`\n",
    "* `pygame`\n",
    "\n",
    "Run all the cells to begin - you'll see that none of the planets are moving yet, and getting them to move correctly is the objective here."
   ]
  },
  {
   "cell_type": "code",
   "execution_count": 10,
   "metadata": {
    "ExecuteTime": {
     "end_time": "2024-03-14T03:44:35.914325100Z",
     "start_time": "2024-03-14T03:44:35.885603Z"
    }
   },
   "outputs": [],
   "source": [
    "import pygame\n",
    "import numpy as np"
   ]
  },
  {
   "cell_type": "code",
   "execution_count": 11,
   "metadata": {
    "ExecuteTime": {
     "end_time": "2024-03-14T03:44:35.914325100Z",
     "start_time": "2024-03-14T03:44:35.888621500Z"
    }
   },
   "outputs": [],
   "source": [
    "parameters = {\n",
    "    'G': 1,  # Gravitational constant\n",
    "\n",
    "    # The following lists must match in size. The ith item in the lists provide parameters for the ith planet\n",
    "    'init_positions': [(2.5, 0), (3, 0.5)],   # Initial positions of all moving planets, where 0,0 is the center\n",
    "    'init_velocities': [(0, 2), (1.1, -0.6)],  # Initial velocities of all moving planets\n",
    "    'masses': [5, 0.2],  # Masses of all moving planets\n",
    "\n",
    "    'dt': 0.005,  # Time step, in seconds\n",
    "\n",
    "    # Positions and masses of non-moving planets\n",
    "    'anchor_planet_positions': [(0, 0)],\n",
    "    'anchor_planet_masses': [10],\n",
    "\n",
    "    'rk4_only': True   # Only shows the rk4 integrator. This hides clutter if you dont care to see the divergence\n",
    "}"
   ]
  },
  {
   "cell_type": "markdown",
   "metadata": {},
   "source": [
    "# Acceleration\n",
    "One of the key parts to simulating physics is computing acceleration (or equivalently, forces, though we'll only work with acceleration here). In this project, we'll focus on simulating planetary orbits, which are driven by gravity.\n",
    "\n",
    "The gravitational acceleration $\\mathbf{a}$ exerted by a body of mass $M$ on another body at relative position $\\mathbf{r}$ is:\n",
    "\n",
    "$$ \\mathbf{a}(\\mathbf{r}) = -\\frac{GM}{\\|\\mathbf{r}\\|^2}\\hat{\\mathbf{r}}, $$\n",
    "\n",
    "where $G$ is the gravitational constant, $\\|\\mathbf{r}\\|$ is the length of $\\mathbf{r}$, and $\\hat{\\mathbf{r}} = \\frac{\\mathbf{r}}{\\| \\mathbf{r} \\|}$. This equation states that a gravitational body _pulls_ other objects towards it, with a force inversely proportional to the square of the distance to each object.\n",
    "\n",
    "Implement this formula in the function `gravity_acceleration` below. We have provided $\\| \\mathbf{r} \\|$ as a separate `radius` parameter."
   ]
  },
  {
   "cell_type": "code",
   "execution_count": 12,
   "metadata": {
    "ExecuteTime": {
     "end_time": "2024-03-14T03:44:35.931140800Z",
     "start_time": "2024-03-14T03:44:35.903867900Z"
    }
   },
   "outputs": [],
   "source": [
    "def gravity_acceleration(G, M, position, radius):\n",
    "    return 0 # Implement this!"
   ]
  },
  {
   "cell_type": "markdown",
   "metadata": {
    "jp-MarkdownHeadingCollapsed": true
   },
   "source": [
    "# Integration\n",
    "\n",
    "Our end goal is to know the position of our simulated planets at every point in time. Although this particular problem has a known equation for the solution (the Kepler problem), most problems in physics don't have an explicit equation describing their evolution. That's not to say we don't understand these problems at all - it just means we primarily understand them _indirectly_, through their derivatives. In fact, it's often easier to describe problems based on their derivatives. However, we're missing one more piece that will allow us to obtain trajectories from its derivatives: an _integrator_. These allow us to use position and velocity information at one point in time to make an estimate about the position and velocity at a future (nearby) point in time. In this project we'll discuss 3 different types of integrators.\n",
    "\n",
    "## Euler Integration\n",
    "\n",
    "The first integrator we will look at is the Euler integrator. This is conceptually the most straightforward one: we estimate how much the acceleration changes the velocity $\\mathbf{v}$ during a small time interval $\\Delta t$, and then use this updated velocity to estimate how much the position $\\mathbf{p}$ changes over that same time interval. Mathematically it looks like this:\n",
    "\n",
    "$$\n",
    "\\begin{align*}\n",
    "    \\mathbf{v}^{t+1} &= \\mathbf{v}^t + \\Delta t \\mathbf{a}(\\mathbf{p}^t) \\\\\n",
    "    \\mathbf{p}^{t+1} &= \\mathbf{p}^t + \\Delta t \\mathbf{v}^{t+1} \\\\\n",
    "\\end{align*}\n",
    "$$\n",
    "\n",
    "(Note the superscripts are just to indicate the time associated with $\\mathbf{p}$ and $\\mathbf{v}$ and aren't exponents.)\n",
    "\n",
    "Implement this integrator in the `euler` function below. The `acceleration` parameter is a bit strange in that it's also a function, but you can just call it like you would any other function."
   ]
  },
  {
   "cell_type": "code",
   "execution_count": 13,
   "metadata": {
    "ExecuteTime": {
     "end_time": "2024-03-14T03:44:35.931140800Z",
     "start_time": "2024-03-14T03:44:35.909015900Z"
    }
   },
   "outputs": [],
   "source": [
    "def euler(acceleration, p, v, dt):\n",
    "    # Implement this!\n",
    "    v_next = v\n",
    "    p_next = p\n",
    "    \n",
    "    return p_next, v_next"
   ]
  },
  {
   "cell_type": "markdown",
   "metadata": {},
   "source": [
    "## Leapfrog Integration\n",
    "\n",
    "Sometimes Euler integration isn't very good because it doesn't consider any acceleration values that occur _within_ the interval $\\Delta t$. Depending on how much the acceleration varies in this interval, we can get trajectories that are very far off from the actual solution. To address this, we'll do something that seems a little strange: we will first take a _half-step_ to update velocity, use this half-stepped velocity to take a _full step_ in position, and then take the remaining half-step in velocity. Mathematically, it looks like this:\n",
    "\n",
    "$$\n",
    "\\begin{align*}\n",
    "    \\mathbf{v}^{t+1/2} &= \\mathbf{v}^t + \\frac{\\Delta t}{2} \\mathbf{a}(\\mathbf{p}^t) \\\\\n",
    "    \\mathbf{p}^{t+1} &= \\mathbf{p}^t + \\Delta t \\mathbf{v}^{t+1/2} \\\\\n",
    "    \\mathbf{v}^{t+1} &= \\mathbf{v}^{t+1/2} + \\frac{\\Delta t}{2} \\mathbf{a}(\\mathbf{p}^{t+1}) \\\\\n",
    "\\end{align*}\n",
    "$$\n",
    "\n",
    "Implement this integrator in the `leapfrog` function below."
   ]
  },
  {
   "cell_type": "code",
   "execution_count": 14,
   "metadata": {
    "ExecuteTime": {
     "end_time": "2024-03-14T03:44:35.931140800Z",
     "start_time": "2024-03-14T03:44:35.916329Z"
    }
   },
   "outputs": [],
   "source": [
    "def leapfrog(acceleration, p, v, dt):\n",
    "    # Implement this!\n",
    "    p_next = p\n",
    "    v_next = v\n",
    "    \n",
    "    return p_next, v_next"
   ]
  },
  {
   "cell_type": "markdown",
   "metadata": {},
   "source": [
    "## Runge-Kutta Integration\n",
    "\n",
    "To get even more accurate results, we can take several smaller steps within the interval and use a weighted average of these substeps. Runge-Kutta integrators are a family of such methods, and here we will focus on the version that uses 4 substeps (often called RK4).\n",
    "\n",
    "The formulas for each substep, and the final update, are as follows:\n",
    "\n",
    "$$\n",
    "\\begin{align*}\n",
    "    k_1 &= \\Delta t \\mathbf{v}^t \\\\\n",
    "    \\ell_1 &= \\Delta t \\mathbf{a}(\\mathbf{p}^t) \\\\ \\\\\n",
    "    k_2 &= \\Delta t \\, (\\mathbf{v}^t + \\ell_1/2) \\\\\n",
    "    \\ell_2 &= \\Delta t \\mathbf{a}(\\mathbf{p}^t + k_1/2) \\\\ \\\\\n",
    "    k_3 &= \\Delta t \\, (\\mathbf{v}^t + \\ell_2/2) \\\\\n",
    "    \\ell_3 &= \\Delta t \\mathbf{a}(\\mathbf{p}^t + k_2/2) \\\\ \\\\\n",
    "    k_4 &= \\Delta t \\, (\\mathbf{v}^t + \\ell_3) \\\\\n",
    "    \\ell_4 &= \\Delta t \\mathbf{a}(\\mathbf{p}^t + k_3) \\\\ \\\\\n",
    "    \\mathbf{p}^{t+1} &= \\mathbf{p}^t + \\frac{1}{6}(k_1 + 2k_2 + 2k_3 + k_4) \\\\\n",
    "    \\mathbf{v}^{t+1} &= \\mathbf{v}^t + \\frac{1}{6}(\\ell_1 + 2\\ell_2 + 2\\ell_3 + \\ell_4) \\\\\n",
    "\\end{align*}\n",
    "$$\n",
    "\n",
    "This looks like a lot of math but don't worry, each section is only as complicated as the Euler method, and then we just add up the 4 results at the end.\n",
    "\n",
    "Implement this integrator in the `rk4` function below."
   ]
  },
  {
   "cell_type": "code",
   "execution_count": 15,
   "metadata": {
    "ExecuteTime": {
     "end_time": "2024-03-14T03:44:35.931140800Z",
     "start_time": "2024-03-14T03:44:35.922574100Z"
    }
   },
   "outputs": [],
   "source": [
    "def rk4(acceleration, p, v, dt):\n",
    "    # Implement this!\n",
    "    p_next = p\n",
    "    v_next = v\n",
    "\n",
    "    return p_next, v_next"
   ]
  },
  {
   "cell_type": "markdown",
   "metadata": {
    "collapsed": false,
    "jupyter": {
     "outputs_hidden": false
    }
   },
   "source": [
    "## Multi-planet\n",
    "\n",
    "As an additional challenge, write this function to compute the acceleration of a planet given a multiplanetary environment. You are provided with the gravitational constant, $G$, a list of the positions of all the other planets, and a list of corresponding masses for the other planets. Recall from physics that the net force for an object is simply the sum of all forces exerted onto that object.\n",
    "\n",
    "The function you already implemented, `gravity_acceleration`, allows you to compute the acceleration from a force between one pair of planets. When you have multiple, what do you need to do?\n",
    "\n",
    "As part of this function, you will need to compute the radius $||{\\mathbf{r}}||$ and relative direction vector ${\\mathbf{r}}$ to each planet for which you are computing the gravitational acceleration. You might need the following tools:\n",
    "- `np.linalg.norm(v)` for a vector $v$ gives you the length (or magnitude) of that vector\n",
    "- `v - u` for vectors $v$, $u$ gives you the vector pointing from $u$ to $v$"
   ]
  },
  {
   "cell_type": "code",
   "execution_count": 16,
   "metadata": {
    "ExecuteTime": {
     "end_time": "2024-03-14T03:44:35.937975500Z",
     "start_time": "2024-03-14T03:44:35.929141500Z"
    },
    "collapsed": false,
    "jupyter": {
     "outputs_hidden": false
    }
   },
   "outputs": [],
   "source": [
    "def total_acceleration(G, position: np.ndarray, planet_positions: list[np.ndarray], planet_masses: list[float]) -> np.ndarray:\n",
    "    \"\"\"Given a planet position and a list of positions and masses of all other planets, return the acceleration vector of the planet\n",
    "    HINTS: You can add two vector positions with +, subtract them with -, or find their length with np.linalg.norm(vector)\n",
    "    \"\"\"\n",
    "    accel = np.array([0.0, 0.0])\n",
    "    for p in range(len(planet_positions)):\n",
    "        # Accumulate the total acceleration in accel\n",
    "        pass\n",
    "    return accel"
   ]
  },
  {
   "cell_type": "markdown",
   "metadata": {},
   "source": [
    "# Orbits\n",
    "\n",
    "Now that all the integrators work, test them out! Here are a few things you can try:\n",
    "* Change the `init_radius` parameter to make the orbiting planet farther away from the big planet. How does this affect the trajectories?\n",
    "* Change the `init_speed` parameter to change how fast the orbiting planet is initially moving. How does this affect the trajectories?\n",
    "* Change `dt` and see how effective each integrator is with different time steps.\n",
    "* Try to write your own integrator! Try to come up with your own or look one up and implement that.\n",
    "* Look at [Kepler's Laws of Planetary Motion](https://en.wikipedia.org/wiki/Kepler%27s_laws_of_planetary_motion) - do you observe these in your simulation? How would you verify them more rigorously?"
   ]
  },
  {
   "cell_type": "code",
   "execution_count": 17,
   "metadata": {
    "ExecuteTime": {
     "end_time": "2024-03-14T03:44:35.942083700Z",
     "start_time": "2024-03-14T03:44:35.937975500Z"
    }
   },
   "outputs": [],
   "source": [
    "class Planet:\n",
    "    def __init__(self, position, velocity, parameters, method, color, is_anchored, mass):\n",
    "        self.position = np.array(position)\n",
    "        self.velocity = np.array(velocity)\n",
    "        self.method = method\n",
    "        self.is_anchored = is_anchored\n",
    "        self.mass = mass\n",
    "\n",
    "        self.setParameters(parameters)\n",
    "        self.positionHistory = []\n",
    "        self.color = np.array(color)\n",
    "        self.secondaryColor = np.array(color)*0.8\n",
    "\n",
    "        self.other_planets = []\n",
    "\n",
    "    def set_other_planet_details(self, other_planets):\n",
    "        self.other_planets = other_planets\n",
    "\n",
    "    def setParameters(self, parameters):\n",
    "        self.G = parameters['G']\n",
    "        self.dt = parameters['dt']\n",
    "\n",
    "    def acceleration(self, position):\n",
    "        return total_acceleration(self.G, position, [p.position for p in self.other_planets], [p.mass for p in self.other_planets])\n",
    "\n",
    "    def timestep(self):\n",
    "        if not self.is_anchored:\n",
    "            if self.method == 'euler':\n",
    "                self.position, self.velocity = euler(self.acceleration, self.position, self.velocity, self.dt)\n",
    "            elif self.method == 'leapfrog':\n",
    "                self.position, self.velocity = leapfrog(self.acceleration, self.position, self.velocity, self.dt)\n",
    "            elif self.method == 'rk4':\n",
    "                self.position, self.velocity = rk4(self.acceleration, self.position, self.velocity, self.dt)\n",
    "            else:\n",
    "                raise ValueError(f'method {self.method} not recognized')\n",
    "            self.positionHistory.append(self.position.copy())\n",
    "    \n",
    "    def Draw(self, screen, stepsPerFrame, tailSize, scale):\n",
    "        x = int(self.position[0]*scale + screen.get_width()/2)\n",
    "        y = int(self.position[1]*scale + screen.get_height()/2)\n",
    "\n",
    "        # draw the orbit\n",
    "        if len(self.positionHistory) > stepsPerFrame:\n",
    "            steps = min(int(len(self.positionHistory) / stepsPerFrame), tailSize+1)\n",
    "            end = len(self.positionHistory) - 1\n",
    "            start = max(0, end - (steps-1)*stepsPerFrame)\n",
    "            for i in range(start, end, stepsPerFrame):\n",
    "                p1 = self.positionHistory[i]\n",
    "                p2 = self.positionHistory[i+stepsPerFrame]\n",
    "                p1 = (int(p1[0]*scale + screen.get_width()/2), int(p1[1]*scale + screen.get_height()/2))\n",
    "                p2 = (int(p2[0]*scale + screen.get_width()/2), int(p2[1]*scale + screen.get_height()/2))\n",
    "                pygame.draw.line(screen, self.secondaryColor*(i-start)/(end-start), p1, p2, 3)\n",
    "        \n",
    "        # draw the planet\n",
    "        pygame.draw.circle(screen, self.color, (x,y), max(2 * self.mass, 3))\n"
   ]
  },
  {
   "cell_type": "code",
   "execution_count": 18,
   "metadata": {
    "ExecuteTime": {
     "end_time": "2024-03-14T03:44:43.519191300Z",
     "start_time": "2024-03-14T03:44:35.945083900Z"
    }
   },
   "outputs": [],
   "source": [
    "Width, Height = 1920, 1080\n",
    "Width *= 0.5\n",
    "Height *= 0.5\n",
    "white, black = (217, 217, 217), (12, 12, 12)\n",
    "size = (Width, Height)\n",
    "\n",
    "pygame.display.init()\n",
    "\n",
    "window = pygame.display.set_mode(size, pygame.RESIZABLE)\n",
    "clock = pygame.time.Clock()\n",
    "fps = 30\n",
    "tailSize = 1000\n",
    "dt = parameters['dt']\n",
    "stepsPerFrame = max(int(1/(fps*dt)), 1)\n",
    "\n",
    "solarSystem = []\n",
    "for i in range(len(parameters['anchor_planet_positions'])):\n",
    "    solarSystem.append(Planet(parameters['anchor_planet_positions'][i], (0, 0), parameters, \"euler\", (255, 255, 255), True, parameters['anchor_planet_masses'][i]))\n",
    "\n",
    "eu_planets = []\n",
    "leap_planets = []\n",
    "rk4_planets = []\n",
    "\n",
    "for i in range(len(parameters['init_positions'])):\n",
    "    eu_planets.append(Planet(parameters['init_positions'][i], parameters['init_velocities'][i], parameters, 'euler', (255, 128, 128), False, parameters['masses'][i]))\n",
    "    leap_planets.append(Planet(parameters['init_positions'][i], parameters['init_velocities'][i], parameters, 'leapfrog', (128, 255, 128), False, parameters['masses'][i]))\n",
    "    rk4_planets.append(Planet(parameters['init_positions'][i], parameters['init_velocities'][i], parameters, 'rk4', (128, 128, 255), False, parameters['masses'][i]))\n",
    "\n",
    "for i in range(len(eu_planets)):\n",
    "    other_planet_idxs = [j for j in range(len(parameters['init_positions'])) if j != i]\n",
    "\n",
    "    eu_planets[i].set_other_planet_details([eu_planets[j] for j in other_planet_idxs] + solarSystem)\n",
    "    leap_planets[i].set_other_planet_details([leap_planets[j] for j in other_planet_idxs] + solarSystem)\n",
    "    rk4_planets[i].set_other_planet_details([rk4_planets[j] for j in other_planet_idxs] + solarSystem)\n",
    "\n",
    "if parameters['rk4_only']:\n",
    "    solarSystem += rk4_planets\n",
    "else:\n",
    "    solarSystem += eu_planets + leap_planets + rk4_planets\n",
    "\n",
    "keyPressed = False\n",
    "run = True\n",
    "while run:\n",
    "    clock.tick(fps)\n",
    "    window.fill((10, 10, 15))\n",
    "\n",
    "    for event in pygame.event.get():\n",
    "        if event.type == pygame.QUIT:\n",
    "            run = False\n",
    "        if event.type == pygame.KEYDOWN:\n",
    "            if event.key == pygame.K_ESCAPE:\n",
    "                run = False\n",
    "            keyPressed = True\n",
    "\n",
    "\t# update the window size in case it was resized\n",
    "    Width, Height = window.get_size()\n",
    "\n",
    "    for planet in solarSystem:\n",
    "        for _ in range(stepsPerFrame):\n",
    "            planet.timestep()\n",
    "        planet.Draw(window, stepsPerFrame, tailSize, 100)\n",
    "\n",
    "    keyPressed = False\n",
    "    pygame.display.flip()\n",
    "\n",
    "# NOTE: the window doesn't seem to close after pygame.quit() is called.\n",
    "# The notebook isn't frozen and the window can be overwritten by rerunning the cells, but it's a little unintuitive.\n",
    "pygame.quit()"
   ]
  },
  {
   "cell_type": "code",
   "execution_count": null,
   "metadata": {
    "ExecuteTime": {
     "end_time": "2024-03-14T03:44:43.519191300Z",
     "start_time": "2024-03-14T03:44:43.504138400Z"
    }
   },
   "outputs": [],
   "source": []
  }
 ],
 "metadata": {
  "kernelspec": {
   "display_name": "Python 3 (ipykernel)",
   "language": "python",
   "name": "python3"
  },
  "language_info": {
   "codemirror_mode": {
    "name": "ipython",
    "version": 3
   },
   "file_extension": ".py",
   "mimetype": "text/x-python",
   "name": "python",
   "nbconvert_exporter": "python",
   "pygments_lexer": "ipython3",
   "version": "3.12.2"
  }
 },
 "nbformat": 4,
 "nbformat_minor": 4
}
